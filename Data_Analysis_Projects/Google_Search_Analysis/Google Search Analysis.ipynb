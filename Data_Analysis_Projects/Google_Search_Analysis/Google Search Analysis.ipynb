{
 "cells": [
  {
   "cell_type": "markdown",
   "id": "c07aadb9",
   "metadata": {},
   "source": [
    "## Connect to Google\n",
    "\n",
    "Let’s get started with the task of analyzing the Google search trends by importing the required python libraries. First, we need to import **pandas** to create a dataframe. Second, we need to connect to Google as we are requesting the Google trending topics, so for this, we need to import the method **TrendReq** from **pytrends.request** library. Also, we will import **matplotlib**, to visualize the data."
   ]
  },
  {
   "cell_type": "code",
   "execution_count": 3,
   "id": "a390affb",
   "metadata": {},
   "outputs": [],
   "source": [
    "import pandas as pd\n",
    "from pytrends.request import TrendReq\n",
    "import matplotlib.pyplot as plt\n",
    "import time\n",
    "\n",
    "Trending_topics = TrendReq(hl='en-US', tz=360)\n"
   ]
  },
  {
   "cell_type": "markdown",
   "id": "ad0942a1",
   "metadata": {},
   "source": [
    "## Build Payload\n",
    "\n",
    "Now, we will be creating a dataframe of the top 10 countries that search for the term **“CLOUD COMPUTING“**. For this, we will be using the method **build_payload**, which allows storing a list of keywords that you want to search. In this, you can also specify the timeframe and the category to query the data from. "
   ]
  },
  {
   "cell_type": "code",
   "execution_count": 4,
   "id": "a75f3c8a",
   "metadata": {},
   "outputs": [],
   "source": [
    "kw_list=[\"Cloud Computing\"]\n",
    "Trending_topics.build_payload(kw_list,cat=0, timeframe='today 12-m')\n",
    "time.sleep(5) # Wait for 5 seconds\n"
   ]
  },
  {
   "cell_type": "markdown",
   "id": "011d7ea1",
   "metadata": {},
   "source": [
    "## Interest Over Time\n",
    "\n",
    "The **interest_over_time()** method, returns the historical, indexed data for when the specified keyword was most searched according to the timeframe mentioned in the build payload method."
   ]
  },
  {
   "cell_type": "code",
   "execution_count": 6,
   "id": "3029730e",
   "metadata": {},
   "outputs": [
    {
     "name": "stdout",
     "output_type": "stream",
     "text": [
      "            Cloud Computing  isPartial\n",
      "date                                  \n",
      "2023-12-03              100      False\n",
      "2023-12-10               95      False\n",
      "2024-01-28               88      False\n",
      "2024-01-21               87      False\n",
      "2023-11-26               86      False\n",
      "2024-02-04               85      False\n",
      "2023-12-17               84      False\n",
      "2024-11-17               82      False\n",
      "2024-02-18               82      False\n",
      "2024-03-17               82      False\n"
     ]
    }
   ],
   "source": [
    "data = Trending_topics.interest_over_time()\n",
    "data = data.sort_values(by=\"Cloud Computing\", ascending = False)\n",
    "data = data.head(10)\n",
    "print(data)\n"
   ]
  },
  {
   "cell_type": "markdown",
   "id": "91790a34",
   "metadata": {},
   "source": [
    "## Historical Hour Interest\n",
    "\n",
    "The **get_historical_interest()** method returns the historical, indexed, hourly data for when the specified keyword was most searched. You can also mention various time period parameters for which you want the historical data such as year_start, month_start, day_start, hour_start, year_end, month_end, day_end, and hour_end. "
   ]
  },
  {
   "cell_type": "code",
   "execution_count": 13,
   "id": "88155868",
   "metadata": {},
   "outputs": [
    {
     "name": "stdout",
     "output_type": "stream",
     "text": [
      "            Cloud Computing  isPartial\n",
      "date                                  \n",
      "2018-01-30              100      False\n",
      "2018-01-18               97      False\n",
      "2018-02-01               96      False\n",
      "2018-01-08               94      False\n",
      "2018-01-04               91      False\n",
      "2018-01-10               90      False\n",
      "2018-01-11               90      False\n",
      "2018-01-24               90      False\n",
      "2018-01-09               88      False\n",
      "2018-01-22               88      False\n"
     ]
    }
   ],
   "source": [
    "time.sleep(10)\n",
    "kw_list = [\"Cloud Computing\"]\n",
    "Trending_topics.build_payload(kw_list, cat=0, timeframe='2018-01-01 2018-02-01', geo='', gprop='')\n",
    "data = Trending_topics.interest_over_time()\n",
    "data = data.sort_values(by=\"Cloud Computing\", ascending = False)\n",
    "data = data.head(10)\n",
    "print(data)"
   ]
  },
  {
   "cell_type": "markdown",
   "id": "12e518fc",
   "metadata": {},
   "source": [
    "## Interest By Region\n",
    "\n",
    "Next is the **interest_by_region method**, this will let you know the performance of the keyword per region. It will show results on a scale of 0-100, where 100 indicates the country with the most search and 0 indicates with least search or not enough data. "
   ]
  },
  {
   "cell_type": "code",
   "execution_count": 16,
   "id": "2e059175",
   "metadata": {},
   "outputs": [
    {
     "name": "stdout",
     "output_type": "stream",
     "text": [
      "            Cloud Computing\n",
      "geoName                    \n",
      "Ethiopia                100\n",
      "Nepal                    49\n",
      "St. Helena               43\n",
      "India                    39\n",
      "China                    35\n",
      "Singapore                23\n",
      "Sri Lanka                22\n",
      "Kenya                    22\n",
      "Pakistan                 22\n",
      "Ireland                  16\n"
     ]
    }
   ],
   "source": [
    "time.sleep(15)\n",
    "data = Trending_topics.interest_by_region()\n",
    "data = data.sort_values(by=\"Cloud Computing\", \n",
    "                        ascending = False)\n",
    "data = data.head(10)\n",
    "print(data)"
   ]
  },
  {
   "cell_type": "markdown",
   "id": "74d9282b",
   "metadata": {},
   "source": [
    "Next, we can visualize the above data using a bar chart."
   ]
  },
  {
   "cell_type": "code",
   "execution_count": 17,
   "id": "48ce3f5b",
   "metadata": {},
   "outputs": [
    {
     "data": {
      "image/png": "[encoded data removed]",
      "text/plain": [
       "<Figure size 1000x500 with 1 Axes>"
      ]
     },
     "metadata": {},
     "output_type": "display_data"
    }
   ],
   "source": [
    "data.reset_index().plot(x='geoName', y='Cloud Computing',\n",
    "                        figsize=(10,5), kind=\"bar\")\n",
    "plt.style.use('fivethirtyeight')\n",
    "plt.show()"
   ]
  },
  {
   "cell_type": "markdown",
   "id": "32b5658c",
   "metadata": {},
   "source": [
    "## Top Charts\n",
    "\n",
    "Using this method, we can get the top trending searches yearly. So, let us check what were the searches trending in the year 2020."
   ]
  },
  {
   "cell_type": "code",
   "execution_count": 18,
   "id": "1eb03aea",
   "metadata": {},
   "outputs": [
    {
     "data": {
      "text/html": [
       "<div>\n",
       "<style scoped>\n",
       "    .dataframe tbody tr th:only-of-type {\n",
       "        vertical-align: middle;\n",
       "    }\n",
       "\n",
       "    .dataframe tbody tr th {\n",
       "        vertical-align: top;\n",
       "    }\n",
       "\n",
       "    .dataframe thead th {\n",
       "        text-align: right;\n",
       "    }\n",
       "</style>\n",
       "<table border=\"1\" class=\"dataframe\">\n",
       "  <thead>\n",
       "    <tr style=\"text-align: right;\">\n",
       "      <th></th>\n",
       "      <th>title</th>\n",
       "      <th>exploreQuery</th>\n",
       "    </tr>\n",
       "  </thead>\n",
       "  <tbody>\n",
       "    <tr>\n",
       "      <th>0</th>\n",
       "      <td>Coronavirus</td>\n",
       "      <td></td>\n",
       "    </tr>\n",
       "    <tr>\n",
       "      <th>1</th>\n",
       "      <td>Election results</td>\n",
       "      <td></td>\n",
       "    </tr>\n",
       "    <tr>\n",
       "      <th>2</th>\n",
       "      <td>Kobe Bryant</td>\n",
       "      <td></td>\n",
       "    </tr>\n",
       "    <tr>\n",
       "      <th>3</th>\n",
       "      <td>Zoom</td>\n",
       "      <td></td>\n",
       "    </tr>\n",
       "    <tr>\n",
       "      <th>4</th>\n",
       "      <td>IPL</td>\n",
       "      <td></td>\n",
       "    </tr>\n",
       "    <tr>\n",
       "      <th>5</th>\n",
       "      <td>India vs New Zealand</td>\n",
       "      <td></td>\n",
       "    </tr>\n",
       "    <tr>\n",
       "      <th>6</th>\n",
       "      <td>Coronavirus update</td>\n",
       "      <td></td>\n",
       "    </tr>\n",
       "    <tr>\n",
       "      <th>7</th>\n",
       "      <td>Coronavirus symptoms</td>\n",
       "      <td></td>\n",
       "    </tr>\n",
       "    <tr>\n",
       "      <th>8</th>\n",
       "      <td>Joe Biden</td>\n",
       "      <td></td>\n",
       "    </tr>\n",
       "    <tr>\n",
       "      <th>9</th>\n",
       "      <td>Google Classroom</td>\n",
       "      <td></td>\n",
       "    </tr>\n",
       "  </tbody>\n",
       "</table>\n",
       "</div>"
      ],
      "text/plain": [
       "                  title exploreQuery\n",
       "0           Coronavirus             \n",
       "1      Election results             \n",
       "2           Kobe Bryant             \n",
       "3                  Zoom             \n",
       "4                   IPL             \n",
       "5  India vs New Zealand             \n",
       "6    Coronavirus update             \n",
       "7  Coronavirus symptoms             \n",
       "8             Joe Biden             \n",
       "9      Google Classroom             "
      ]
     },
     "execution_count": 18,
     "metadata": {},
     "output_type": "execute_result"
    }
   ],
   "source": [
    "df = Trending_topics.top_charts(2020, hl='en-US', \n",
    "                                tz=300, geo='GLOBAL')\n",
    "df.head(10)"
   ]
  },
  {
   "cell_type": "markdown",
   "id": "e8ed86e5",
   "metadata": {},
   "source": [
    "From the above output, we can see, that the most searched topic of 2020 is **“Coronavirus”** and then the rest.\n",
    "\n",
    "## Related Queries\n",
    "\n",
    "Whenever a user searches for something about a particular topic on Google there is a high probability that the user will search for more queries related to the same topic. These are known as related queries. Let us find a list of related queries for “Cloud Computing”."
   ]
  },
  {
   "cell_type": "code",
   "execution_count": 19,
   "id": "364fa2ec",
   "metadata": {},
   "outputs": [
    {
     "name": "stdout",
     "output_type": "stream",
     "text": [
      "No related queries found for 'Cloud Computing'\n"
     ]
    }
   ],
   "source": [
    "try:\n",
    "    Trending_topics.build_payload(kw_list=['Cloud Computing'])\n",
    "    related_queries = Trending_topics.related_queries()\n",
    "    related_queries.values()\n",
    "except (KeyError, IndexError):\n",
    "    print(\"No related queries found for 'Cloud Computing'\")"
   ]
  },
  {
   "cell_type": "markdown",
   "id": "858b9df6",
   "metadata": {},
   "source": [
    "## Keyword Suggestions\n",
    "\n",
    "The suggestions() method, will help you to explore what the world is searching for. It returns a list of additional suggested keywords that can be used to filter a trending search on Google."
   ]
  },
  {
   "cell_type": "code",
   "execution_count": 20,
   "id": "01fc886d",
   "metadata": {},
   "outputs": [
    {
     "data": {
      "text/html": [
       "<div>\n",
       "<style scoped>\n",
       "    .dataframe tbody tr th:only-of-type {\n",
       "        vertical-align: middle;\n",
       "    }\n",
       "\n",
       "    .dataframe tbody tr th {\n",
       "        vertical-align: top;\n",
       "    }\n",
       "\n",
       "    .dataframe thead th {\n",
       "        text-align: right;\n",
       "    }\n",
       "</style>\n",
       "<table border=\"1\" class=\"dataframe\">\n",
       "  <thead>\n",
       "    <tr style=\"text-align: right;\">\n",
       "      <th></th>\n",
       "      <th>title</th>\n",
       "      <th>type</th>\n",
       "    </tr>\n",
       "  </thead>\n",
       "  <tbody>\n",
       "    <tr>\n",
       "      <th>0</th>\n",
       "      <td>Cloud computing</td>\n",
       "      <td>Topic</td>\n",
       "    </tr>\n",
       "    <tr>\n",
       "      <th>1</th>\n",
       "      <td>Cloud computing</td>\n",
       "      <td>Topic</td>\n",
       "    </tr>\n",
       "    <tr>\n",
       "      <th>2</th>\n",
       "      <td>Cloud computing security</td>\n",
       "      <td>Topic</td>\n",
       "    </tr>\n",
       "    <tr>\n",
       "      <th>3</th>\n",
       "      <td>Alibaba Cloud</td>\n",
       "      <td>Computer software company</td>\n",
       "    </tr>\n",
       "    <tr>\n",
       "      <th>4</th>\n",
       "      <td>Private cloud computing infrastructure</td>\n",
       "      <td>Topic</td>\n",
       "    </tr>\n",
       "  </tbody>\n",
       "</table>\n",
       "</div>"
      ],
      "text/plain": [
       "                                    title                       type\n",
       "0                         Cloud computing                      Topic\n",
       "1                         Cloud computing                      Topic\n",
       "2                Cloud computing security                      Topic\n",
       "3                           Alibaba Cloud  Computer software company\n",
       "4  Private cloud computing infrastructure                      Topic"
      ]
     },
     "execution_count": 20,
     "metadata": {},
     "output_type": "execute_result"
    }
   ],
   "source": [
    "keywords = Trending_topics.suggestions(\n",
    "  keyword='Cloud Computing')\n",
    "df = pd.DataFrame(keywords)\n",
    "df.drop(columns= 'mid')"
   ]
  },
  {
   "cell_type": "code",
   "execution_count": null,
   "id": "91c730da",
   "metadata": {},
   "outputs": [],
   "source": []
  }
 ],
 "metadata": {
  "kernelspec": {
   "display_name": "Python 3 (ipykernel)",
   "language": "python",
   "name": "python3"
  },
  "language_info": {
   "codemirror_mode": {
    "name": "ipython",
    "version": 3
   },
   "file_extension": ".py",
   "mimetype": "text/x-python",
   "name": "python",
   "nbconvert_exporter": "python",
   "pygments_lexer": "ipython3",
   "version": "3.10.9"
  }
 },
 "nbformat": 4,
 "nbformat_minor": 5
}
